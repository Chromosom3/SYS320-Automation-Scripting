{
 "cells": [
  {
   "cell_type": "code",
   "execution_count": null,
   "metadata": {},
   "outputs": [],
   "source": [
    "from matplotlib.pyplot import hot\n",
    "import paramiko\n",
    "from getpass import getpass\n",
    "\n",
    "# Create the prompt for the password\n",
    "password = getpass(prompt=\"Please Enter your SSH password: \")\n",
    "\n",
    "# Hist Information\n",
    "host = \"192.168.6.71\"\n",
    "port = 22\n",
    "username = \"administrator\"\n",
    "\n",
    "\n",
    "try: \n",
    "    ssh = paramiko.SSHClient()\n",
    "    ssh.set_missing_host_key_policy(paramiko.AutoAddPolicy())\n",
    "    ssh.connect(host, port, username, password)\n",
    "except paramiko.AuthenticationException:\n",
    "    print(\"Authentication Failed.\")"
   ]
  },
  {
   "cell_type": "code",
   "execution_count": 1,
   "metadata": {},
   "outputs": [],
   "source": [
    "#Run a single Command\n",
    "# command = \"ps -ef\"\n",
    "\n",
    "# Runa a list of commands\n",
    "commands = [\"ps -ef\", \"netstat -an --inet\", \"last -adx\", \"cut -d: -fi /etc/passwd\"]\n",
    "\n",
    "for command in commands:\n",
    "    # Get the output \n",
    "    stdin, stdout, stderr = ssh.exec_command(command)\n",
    "\n",
    "    # Get the results from stdout\n",
    "    lines = stdout.readlines()\n",
    "    #print(lines)\n",
    "\n",
    "    # Conver the list to a string\n",
    "    output = ''.join(lines)\n",
    "\n",
    "    # Header Output\n",
    "    sepHeader = \"\" + \"### BEGIN \" + command + \"###\\n\\n\"\n",
    "    # Output Footer\n",
    "    SepFooter = \"\" + \"### BEGIN \" + command + \"###\\n\\n\"\n",
    "    # Conncatinates the header, output, and footer\n",
    "    cmd_output = sepHeader + output + SepFooter\n",
    "\n",
    "    # Save the output to a file \n",
    "    with open(\"ssh_results.txt\",'a') as f:\n",
    "        f.write(cmd_output)\n",
    "\n",
    "    #print (cmd_output)\n",
    "\n",
    "\n",
    "ssh.close()"
   ]
  },
  {
   "cell_type": "code",
   "execution_count": null,
   "metadata": {},
   "outputs": [],
   "source": [
    "# Start SFTP Session\n",
    "from threading import local\n",
    "\n",
    "\n",
    "sftp = ssh.open_sftp()\n",
    "\n",
    "# List of files to download\n",
    "files = [\"/etc/hosts\", \"/etc/passwd\",\"/var/log/auth.log\"]\n",
    "\n",
    "# Loop through the files and download them\n",
    "for eachFile in files:\n",
    "    # Create a list from the filename \n",
    "    x = eachFile.split(\"/\")\n",
    "    # Local path to store the files\n",
    "    # Gets only the file name from the file path\n",
    "    filename = x[-1]\n",
    "    local_path = \"remote_files/\" + filename\n",
    "\n",
    "    sftp.get(eachFile, local_path)\n",
    "ssh.close()"
   ]
  }
 ],
 "metadata": {
  "kernelspec": {
   "display_name": "Python 3.9.12 ('base')",
   "language": "python",
   "name": "python3"
  },
  "language_info": {
   "codemirror_mode": {
    "name": "ipython",
    "version": 3
   },
   "file_extension": ".py",
   "mimetype": "text/x-python",
   "name": "python",
   "nbconvert_exporter": "python",
   "pygments_lexer": "ipython3",
   "version": "3.9.12"
  },
  "orig_nbformat": 4,
  "vscode": {
   "interpreter": {
    "hash": "005826126a67d9541252b7ed6c85b7630905e83f62c495d3fb9734e5c7bec29e"
   }
  }
 },
 "nbformat": 4,
 "nbformat_minor": 2
}

{
 "cells": [
  {
   "cell_type": "markdown",
   "metadata": {},
   "source": [
    "### Imports"
   ]
  },
  {
   "cell_type": "code",
   "execution_count": 22,
   "metadata": {},
   "outputs": [
    {
     "data": {
      "text/plain": [
       "<module 'proxifierLog' from 'e:\\\\Repositories\\\\SYS320-Automation-Scripting\\\\Week02\\\\homework\\\\proxifierLog.py'>"
      ]
     },
     "execution_count": 22,
     "metadata": {},
     "output_type": "execute_result"
    }
   ],
   "source": [
    "import apacheLog\n",
    "import proxifierLog\n",
    "import importlib\n",
    "importlib.reload(apacheLog)\n",
    "importlib.reload(proxifierLog)"
   ]
  },
  {
   "cell_type": "markdown",
   "metadata": {},
   "source": [
    "### Apache  PHP"
   ]
  },
  {
   "cell_type": "code",
   "execution_count": 23,
   "metadata": {},
   "outputs": [
    {
     "name": "stdout",
     "output_type": "stream",
     "text": [
      "404 GET /mediawiki/index.php?title=Main_Page\n",
      "404 GET /wordpress/wp-login.php\n"
     ]
    }
   ],
   "source": [
    "apacheLog.apache_events(\"../../logs/access.log\", \"apache\", \"php\")"
   ]
  },
  {
   "cell_type": "markdown",
   "metadata": {},
   "source": [
    "### Apache CGI"
   ]
  },
  {
   "cell_type": "code",
   "execution_count": 24,
   "metadata": {},
   "outputs": [
    {
     "name": "stdout",
     "output_type": "stream",
     "text": [
      "404 GET /cgi-bin/test-cgi\n",
      "404 GET /cgi-bin/htsearch?Exclude=%60/etc/passwd%60\n",
      "404 POST /cgi-bin/test-cgi\n"
     ]
    }
   ],
   "source": [
    "apacheLog.apache_events(\"../../logs/access.log\", \"apache\", \"cgi\")"
   ]
  },
  {
   "cell_type": "markdown",
   "metadata": {},
   "source": [
    "## Proxifier Events\n",
    "### Proxifier Data Transfer"
   ]
  },
  {
   "cell_type": "code",
   "execution_count": 25,
   "metadata": {},
   "outputs": [
    {
     "name": "stdout",
     "output_type": "stream",
     "text": [
      "QQ.exe tcpconn3.tencent.com:443 149 sent, 121 received,\n",
      "QQProtectUpd.exe qdun-data.qq.com:443 261 sent, 70 received,\n",
      "QQ.exe tcpconn3.tencent.com:80 0 sent, 0 received,\n",
      "QQ.exe showxml.qq.com:80 600 sent, 1716 received,\n",
      "QQ.exe tcpconn6.tencent.com:80 0 sent, 0 received,\n",
      "QQ.exe tcpconn6.tencent.com:443 0 sent, 0 received,\n",
      "QQ.exe tcpconn.tencent.com:80 133 sent, 0 received,\n",
      "QQ.exe cgi.qqweb.qq.com:80 477 sent, 448 received,\n",
      "QQ.exe qqmail.tencent.com:80 336 sent, 2854 received,\n",
      "QQExternal.exe proxy.cse.cuhk.edu.hk:5070 1644 sent, 388 received,\n",
      "QQ.exe 2052.flash2-http.qq.com:80 466 sent, 125682 received,\n"
     ]
    }
   ],
   "source": [
    "proxifierLog.proxifier_data(\"../../logs/Proxifier_2k.log\", \"proxifier\", \"qq_data\")"
   ]
  },
  {
   "cell_type": "markdown",
   "metadata": {},
   "source": [
    "### Proxifier Connection Open"
   ]
  },
  {
   "cell_type": "code",
   "execution_count": 26,
   "metadata": {},
   "outputs": [
    {
     "name": "stdout",
     "output_type": "stream",
     "text": [
      "[10.3017:47:23] QQ.exe cgi.qqweb.qq.com:80 open through proxy proxy.cse.cuhk.edu.hk:5070\n",
      "[10.3017:46:23] QQ.exe 183.60.49.182:443 open through proxy proxy.cse.cuhk.edu.hk:5070\n",
      "[10.3017:46:44] QQ.exe tcpconn6.tencent.com:443 open through proxy proxy.cse.cuhk.edu.hk:5070\n",
      "[10.3017:46:23] QQ.exe tcpconn.tencent.com:80 open through proxy proxy.cse.cuhk.edu.hk:5070\n",
      "[10.3017:46:44] QQ.exe tcpconn6.tencent.com:80 open through proxy proxy.cse.cuhk.edu.hk:5070\n",
      "[07.2704:05:01] QQProtectUpd.exe qdun-data.qq.com:443 open through proxy proxy.cse.cuhk.edu.hk:5070\n",
      "[07.2619:01:00] QQPlayer.exe btrace.qq.com:80 open through proxy proxy.cse.cuhk.edu.hk:5070\n",
      "[10.3017:46:44] QQ.exe tcpconn3.tencent.com:443 open through proxy proxy.cse.cuhk.edu.hk:5070\n"
     ]
    }
   ],
   "source": [
    "proxifierLog.proxifier_open(\"../../logs/Proxifier_2k.log\", \"proxifier\", \"qq_open\")"
   ]
  }
 ],
 "metadata": {
  "kernelspec": {
   "display_name": "Python 3.9.12 ('base')",
   "language": "python",
   "name": "python3"
  },
  "language_info": {
   "codemirror_mode": {
    "name": "ipython",
    "version": 3
   },
   "file_extension": ".py",
   "mimetype": "text/x-python",
   "name": "python",
   "nbconvert_exporter": "python",
   "pygments_lexer": "ipython3",
   "version": "3.9.12"
  },
  "orig_nbformat": 4,
  "vscode": {
   "interpreter": {
    "hash": "005826126a67d9541252b7ed6c85b7630905e83f62c495d3fb9734e5c7bec29e"
   }
  }
 },
 "nbformat": 4,
 "nbformat_minor": 2
}

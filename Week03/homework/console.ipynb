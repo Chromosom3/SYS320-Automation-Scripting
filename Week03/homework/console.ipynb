{
 "cells": [
  {
   "cell_type": "markdown",
   "metadata": {},
   "source": [
    "# URLHAUS"
   ]
  },
  {
   "cell_type": "code",
   "execution_count": 1,
   "metadata": {},
   "outputs": [
    {
     "data": {
      "text/plain": [
       "<module 'urlHaus' from 'e:\\\\Repositories\\\\SYS320-Automation-Scripting\\\\Week03\\\\homework\\\\urlHaus.py'>"
      ]
     },
     "execution_count": 1,
     "metadata": {},
     "output_type": "execute_result"
    }
   ],
   "source": [
    "import urlHaus as u\n",
    "import importlib\n",
    "importlib.reload(u)\n"
   ]
  },
  {
   "cell_type": "markdown",
   "metadata": {},
   "source": [
    "# EDU and GOV"
   ]
  },
  {
   "cell_type": "code",
   "execution_count": 2,
   "metadata": {},
   "outputs": [
    {
     "name": "stdout",
     "output_type": "stream",
     "text": [
      "\n",
      "                    URL: hxxps://forms.saurashtrauniversity.edu/belt.php\n",
      "                    Info: https://urlhaus.abuse.ch/url/2008131/\n",
      "                    ************************************************************\n",
      "\n",
      "                    URL: hxxps://forms.saurashtrauniversity.edu/sombrero.php?a=EAxfXw1PTUBfQwoQQgNJQiVCEFoCAAo%3D\n",
      "                    Info: https://urlhaus.abuse.ch/url/1769675/\n",
      "                    ************************************************************\n",
      "\n",
      "                    URL: hxxps://forms.saurashtrauniversity.edu/foxglove.php?a=GwtVQAVHHl4cGzgeSRxAQwJLX0JDHBEEFAhfWEkZFEdJSBE%3D\n",
      "                    Info: https://urlhaus.abuse.ch/url/1766307/\n",
      "                    ************************************************************\n",
      "\n",
      "                    URL: hxxps://forms.saurashtrauniversity.edu/baffled.php\n",
      "                    Info: https://urlhaus.abuse.ch/url/1743707/\n",
      "                    ************************************************************\n",
      "\n",
      "                    URL: hxxps://pacwebdesigns.com/images/private-module/verified-space/418575-XYykXgov/\n",
      "                    Info: https://urlhaus.abuse.ch/url/438468/\n",
      "                    ************************************************************\n"
     ]
    }
   ],
   "source": [
    "u.urlHausOpen('urlHaus.csv', ['.edu/','.gov/'])"
   ]
  },
  {
   "cell_type": "markdown",
   "metadata": {},
   "source": [
    "# WIN32"
   ]
  },
  {
   "cell_type": "code",
   "execution_count": 3,
   "metadata": {},
   "outputs": [
    {
     "name": "stdout",
     "output_type": "stream",
     "text": [
      "\n",
      "                    URL: hxxp://103.171.0.134/Registry/.win32.exe\n",
      "                    Info: https://urlhaus.abuse.ch/url/2017874/\n",
      "                    ************************************************************\n",
      "\n",
      "                    URL: hxxp://198.46.132.195/Registry/.win32.exe\n",
      "                    Info: https://urlhaus.abuse.ch/url/2017585/\n",
      "                    ************************************************************\n",
      "\n",
      "                    URL: hxxp://103.89.90.10/Registry/.win32.exe\n",
      "                    Info: https://urlhaus.abuse.ch/url/2017583/\n",
      "                    ************************************************************\n",
      "\n",
      "                    URL: hxxp://103.171.0.134/googleCRC/.win32.exe\n",
      "                    Info: https://urlhaus.abuse.ch/url/2011286/\n",
      "                    ************************************************************\n",
      "\n",
      "                    URL: hxxp://198.46.132.195/googleCRC/.win32.exe\n",
      "                    Info: https://urlhaus.abuse.ch/url/2011284/\n",
      "                    ************************************************************\n",
      "\n",
      "                    URL: hxxp://103.171.0.134/glcouldB2/.win32.exe\n",
      "                    Info: https://urlhaus.abuse.ch/url/2009261/\n",
      "                    ************************************************************\n",
      "\n",
      "                    URL: hxxp://103.171.0.134/couldA9/.win32.exe\n",
      "                    Info: https://urlhaus.abuse.ch/url/2007490/\n",
      "                    ************************************************************\n",
      "\n",
      "                    URL: hxxp://103.89.90.10/couldA9/.win32.exe\n",
      "                    Info: https://urlhaus.abuse.ch/url/2007419/\n",
      "                    ************************************************************\n",
      "\n",
      "                    URL: hxxp://103.114.105.38/gcould/.win32.exe\n",
      "                    Info: https://urlhaus.abuse.ch/url/2004773/\n",
      "                    ************************************************************\n",
      "\n",
      "                    URL: hxxp://103.89.90.10/winos11pro/.win32.exe\n",
      "                    Info: https://urlhaus.abuse.ch/url/2002897/\n",
      "                    ************************************************************\n",
      "\n",
      "                    URL: hxxp://103.89.90.10/googlecould/.win32.exe\n",
      "                    Info: https://urlhaus.abuse.ch/url/2002453/\n",
      "                    ************************************************************\n",
      "\n",
      "                    URL: hxxp://103.114.105.38/googlecould/.win32.exe\n",
      "                    Info: https://urlhaus.abuse.ch/url/2001958/\n",
      "                    ************************************************************\n",
      "\n",
      "                    URL: hxxp://103.114.105.38/intel087(R)/.win32.exe\n",
      "                    Info: https://urlhaus.abuse.ch/url/1995422/\n",
      "                    ************************************************************\n",
      "\n",
      "                    URL: hxxp://103.114.105.38/intel(R)/.win32.exe\n",
      "                    Info: https://urlhaus.abuse.ch/url/1991792/\n",
      "                    ************************************************************\n",
      "\n",
      "                    URL: hxxp://103.89.90.10/intel(R)/.win32.exe\n",
      "                    Info: https://urlhaus.abuse.ch/url/1991789/\n",
      "                    ************************************************************\n",
      "\n",
      "                    URL: hxxp://103.114.105.38/intelpro/.win32.exe\n",
      "                    Info: https://urlhaus.abuse.ch/url/1988914/\n",
      "                    ************************************************************\n",
      "\n",
      "                    URL: hxxp://103.89.90.10/oswindows10pro/.win32.exe\n",
      "                    Info: https://urlhaus.abuse.ch/url/1986851/\n",
      "                    ************************************************************\n",
      "\n",
      "                    URL: hxxp://103.114.105.38/oswindows10pro/.win32.exe\n",
      "                    Info: https://urlhaus.abuse.ch/url/1986850/\n",
      "                    ************************************************************\n",
      "\n",
      "                    URL: hxxp://103.114.105.38/winos11pro/.win32.exe\n",
      "                    Info: https://urlhaus.abuse.ch/url/1983100/\n",
      "                    ************************************************************\n",
      "\n",
      "                    URL: hxxp://103.114.105.38/wwindows8/.win32.exe\n",
      "                    Info: https://urlhaus.abuse.ch/url/1974131/\n",
      "                    ************************************************************\n",
      "\n",
      "                    URL: hxxp://103.114.105.38/windows10/.win32.exe\n",
      "                    Info: https://urlhaus.abuse.ch/url/1966580/\n",
      "                    ************************************************************\n",
      "\n",
      "                    URL: hxxp://103.114.105.38/savecloud2091/.win32.exe\n",
      "                    Info: https://urlhaus.abuse.ch/url/1962738/\n",
      "                    ************************************************************\n"
     ]
    }
   ],
   "source": [
    "u.urlHausOpen('urlHaus.csv', ['\\.win32.exe'])"
   ]
  }
 ],
 "metadata": {
  "kernelspec": {
   "display_name": "Python 3.9.12 ('base')",
   "language": "python",
   "name": "python3"
  },
  "language_info": {
   "codemirror_mode": {
    "name": "ipython",
    "version": 3
   },
   "file_extension": ".py",
   "mimetype": "text/x-python",
   "name": "python",
   "nbconvert_exporter": "python",
   "pygments_lexer": "ipython3",
   "version": "3.9.12"
  },
  "orig_nbformat": 4,
  "vscode": {
   "interpreter": {
    "hash": "005826126a67d9541252b7ed6c85b7630905e83f62c495d3fb9734e5c7bec29e"
   }
  }
 },
 "nbformat": 4,
 "nbformat_minor": 2
}

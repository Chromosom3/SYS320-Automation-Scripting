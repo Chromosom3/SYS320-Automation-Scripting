{
 "cells": [
  {
   "cell_type": "markdown",
   "metadata": {},
   "source": [
    "# URLHAUS"
   ]
  },
  {
   "cell_type": "code",
   "execution_count": 1,
   "metadata": {},
   "outputs": [
    {
     "data": {
      "text/plain": [
       "<module 'urlHaus' from 'e:\\\\Repositories\\\\SYS320-Automation-Scripting\\\\Week03\\\\homework\\\\urlHaus.py'>"
      ]
     },
     "execution_count": 1,
     "metadata": {},
     "output_type": "execute_result"
    }
   ],
   "source": [
    "import urlHaus as u\n",
    "import importlib\n",
    "importlib.reload(u)\n"
   ]
  },
  {
   "cell_type": "code",
   "execution_count": 4,
   "metadata": {},
   "outputs": [
    {
     "ename": "TypeError",
     "evalue": "can only concatenate str (not \"int\") to str",
     "output_type": "error",
     "traceback": [
      "\u001b[1;31m---------------------------------------------------------------------------\u001b[0m",
      "\u001b[1;31mTypeError\u001b[0m                                 Traceback (most recent call last)",
      "\u001b[1;32me:\\Repositories\\SYS320-Automation-Scripting\\Week03\\homework\\console.ipynb Cell 3\u001b[0m in \u001b[0;36m<cell line: 1>\u001b[1;34m()\u001b[0m\n\u001b[1;32m----> <a href='vscode-notebook-cell:/e%3A/Repositories/SYS320-Automation-Scripting/Week03/homework/console.ipynb#W2sZmlsZQ%3D%3D?line=0'>1</a>\u001b[0m u\u001b[39m.\u001b[39;49murlHausOpen(\u001b[39m'\u001b[39;49m\u001b[39murlHaus.csv\u001b[39;49m\u001b[39m'\u001b[39;49m, \u001b[39m'\u001b[39;49m\u001b[39m.php\u001b[39;49m\u001b[39m'\u001b[39;49m)\n",
      "File \u001b[1;32me:\\Repositories\\SYS320-Automation-Scripting\\Week03\\homework\\urlHaus.py:46\u001b[0m, in \u001b[0;36murlHausOpen\u001b[1;34m(filename, searchTerm)\u001b[0m\n\u001b[0;32m     41\u001b[0m the_url \u001b[39m=\u001b[39m eachLine[\u001b[39m2\u001b[39m]\u001b[39m.\u001b[39mreplace(\u001b[39m\"\u001b[39m\u001b[39mhttp\u001b[39m\u001b[39m\"\u001b[39m,\u001b[39m\"\u001b[39m\u001b[39mhxxp\u001b[39m\u001b[39m\"\u001b[39m)\n\u001b[0;32m     42\u001b[0m the_src \u001b[39m=\u001b[39m eachLine[\u001b[39m4\u001b[39m]\n\u001b[0;32m     43\u001b[0m \u001b[39mprint\u001b[39m(\u001b[39m\"\"\"\u001b[39m\n\u001b[0;32m     44\u001b[0m \u001b[39mURL:\u001b[39m\n\u001b[0;32m     45\u001b[0m \u001b[39mInfo: \u001b[39m\n\u001b[1;32m---> 46\u001b[0m \u001b[39m\u001b[39m\u001b[39m{}\u001b[39;00m\u001b[39m\"\"\"\u001b[39m,\u001b[39mformat\u001b[39m(the_url, the_src,\u001b[39m\"\u001b[39;49m\u001b[39m*\u001b[39;49m\u001b[39m\"\u001b[39;49m\u001b[39m+\u001b[39;49m\u001b[39m60\u001b[39;49m))\n",
      "\u001b[1;31mTypeError\u001b[0m: can only concatenate str (not \"int\") to str"
     ]
    }
   ],
   "source": [
    "u.urlHausOpen('urlHaus.csv', '.php')"
   ]
  }
 ],
 "metadata": {
  "kernelspec": {
   "display_name": "Python 3.9.12 ('base')",
   "language": "python",
   "name": "python3"
  },
  "language_info": {
   "codemirror_mode": {
    "name": "ipython",
    "version": 3
   },
   "file_extension": ".py",
   "mimetype": "text/x-python",
   "name": "python",
   "nbconvert_exporter": "python",
   "pygments_lexer": "ipython3",
   "version": "3.9.12"
  },
  "orig_nbformat": 4,
  "vscode": {
   "interpreter": {
    "hash": "005826126a67d9541252b7ed6c85b7630905e83f62c495d3fb9734e5c7bec29e"
   }
  }
 },
 "nbformat": 4,
 "nbformat_minor": 2
}

{
 "cells": [
  {
   "cell_type": "markdown",
   "metadata": {},
   "source": [
    "# URLHAUS"
   ]
  },
  {
   "cell_type": "code",
   "execution_count": 1,
   "metadata": {},
   "outputs": [
    {
     "ename": "IndentationError",
     "evalue": "expected an indented block (urlHaus.py, line 6)",
     "output_type": "error",
     "traceback": [
      "Traceback \u001b[1;36m(most recent call last)\u001b[0m:\n",
      "  File \u001b[0;32mc:\\Users\\Chromosome\\anaconda3\\lib\\site-packages\\IPython\\core\\interactiveshell.py:3369\u001b[0m in \u001b[0;35mrun_code\u001b[0m\n    exec(code_obj, self.user_global_ns, self.user_ns)\n",
      "\u001b[1;36m  Input \u001b[1;32mIn [1]\u001b[1;36m in \u001b[1;35m<cell line: 1>\u001b[1;36m\u001b[0m\n\u001b[1;33m    import urlHaus as u\u001b[0m\n",
      "\u001b[1;36m  File \u001b[1;32me:\\Repositories\\SYS320-Automation-Scripting\\Week03\\homework\\urlHaus.py:6\u001b[1;36m\u001b[0m\n\u001b[1;33m    while open('filename') as f:\u001b[0m\n\u001b[1;37m    ^\u001b[0m\n\u001b[1;31mIndentationError\u001b[0m\u001b[1;31m:\u001b[0m expected an indented block\n"
     ]
    }
   ],
   "source": [
    "import urlHaus as u\n",
    "import importlib\n",
    "importlib.reload(u)\n"
   ]
  },
  {
   "cell_type": "code",
   "execution_count": null,
   "metadata": {},
   "outputs": [],
   "source": [
    "u.urlHausOpen('../../logs/urlHaus.csv', '.php')"
   ]
  }
 ],
 "metadata": {
  "kernelspec": {
   "display_name": "Python 3.9.12 ('base')",
   "language": "python",
   "name": "python3"
  },
  "language_info": {
   "codemirror_mode": {
    "name": "ipython",
    "version": 3
   },
   "file_extension": ".py",
   "mimetype": "text/x-python",
   "name": "python",
   "nbconvert_exporter": "python",
   "pygments_lexer": "ipython3",
   "version": "3.9.12"
  },
  "orig_nbformat": 4,
  "vscode": {
   "interpreter": {
    "hash": "005826126a67d9541252b7ed6c85b7630905e83f62c495d3fb9734e5c7bec29e"
   }
  }
 },
 "nbformat": 4,
 "nbformat_minor": 2
}

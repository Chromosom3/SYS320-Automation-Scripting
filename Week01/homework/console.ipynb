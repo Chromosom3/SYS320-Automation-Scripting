{
 "cells": [
  {
   "cell_type": "markdown",
   "metadata": {},
   "source": [
    "## Imports"
   ]
  },
  {
   "cell_type": "code",
   "execution_count": 1,
   "metadata": {},
   "outputs": [
    {
     "data": {
      "text/plain": [
       "<module 'syslogSSHAuth' from 'e:\\\\Repositories\\\\SYS320-Automation-Scripting\\\\Week01\\\\homework\\\\syslogSSHAuth.py'>"
      ]
     },
     "execution_count": 1,
     "metadata": {},
     "output_type": "execute_result"
    }
   ],
   "source": [
    "import syslogKlogind,syslogSSHAuth\n",
    "import importlib\n",
    "importlib.reload(syslogKlogind)\n",
    "importlib.reload(syslogSSHAuth)"
   ]
  },
  {
   "cell_type": "markdown",
   "metadata": {},
   "source": [
    "## Script Testing\n",
    "### Klogind \n",
    "This will return the IP address of any failed authentication from the klogind logs."
   ]
  },
  {
   "cell_type": "code",
   "execution_count": 2,
   "metadata": {},
   "outputs": [
    {
     "name": "stdout",
     "output_type": "stream",
     "text": [
      "163.27.187.39\n"
     ]
    }
   ],
   "source": [
    "syslogKlogind.klogind_fail(\"../../logs/Linux_2k.log\",[\"klogind.* Authentication failed from.*\"])"
   ]
  },
  {
   "cell_type": "markdown",
   "metadata": {},
   "source": [
    "### SSH Sessions Opened\n",
    "This will print all the users that successfully connected via SSH to the system."
   ]
  },
  {
   "cell_type": "code",
   "execution_count": 7,
   "metadata": {},
   "outputs": [
    {
     "name": "stdout",
     "output_type": "stream",
     "text": [
      "test\n"
     ]
    }
   ],
   "source": [
    "syslogSSHAuth.ssh_success(\"../../logs/Linux_2k.log\",[\"sshd\\(pam_unix\\).* session opened for user.*\"])"
   ]
  }
 ],
 "metadata": {
  "kernelspec": {
   "display_name": "Python 3.9.12 ('base')",
   "language": "python",
   "name": "python3"
  },
  "language_info": {
   "codemirror_mode": {
    "name": "ipython",
    "version": 3
   },
   "file_extension": ".py",
   "mimetype": "text/x-python",
   "name": "python",
   "nbconvert_exporter": "python",
   "pygments_lexer": "ipython3",
   "version": "3.9.12"
  },
  "orig_nbformat": 4,
  "vscode": {
   "interpreter": {
    "hash": "005826126a67d9541252b7ed6c85b7630905e83f62c495d3fb9734e5c7bec29e"
   }
  }
 },
 "nbformat": 4,
 "nbformat_minor": 2
}

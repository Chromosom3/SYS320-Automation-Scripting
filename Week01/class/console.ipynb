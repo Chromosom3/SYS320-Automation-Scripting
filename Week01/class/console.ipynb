{
 "cells": [
  {
   "cell_type": "code",
   "execution_count": 4,
   "metadata": {},
   "outputs": [
    {
     "name": "stdout",
     "output_type": "stream",
     "text": [
      "SYS-320\n"
     ]
    }
   ],
   "source": [
    "print(\"SYS-320\")"
   ]
  }
 ],
 "metadata": {
  "kernelspec": {
   "display_name": "Python 3.9.12 ('base')",
   "language": "python",
   "name": "python3"
  },
  "language_info": {
   "codemirror_mode": {
    "name": "ipython",
    "version": 3
   },
   "file_extension": ".py",
   "mimetype": "text/x-python",
   "name": "python",
   "nbconvert_exporter": "python",
   "pygments_lexer": "ipython3",
   "version": "3.9.12"
  },
  "orig_nbformat": 4,
  "vscode": {
   "interpreter": {
    "hash": "005826126a67d9541252b7ed6c85b7630905e83f62c495d3fb9734e5c7bec29e"
   }
  }
 },
 "nbformat": 4,
 "nbformat_minor": 2
}

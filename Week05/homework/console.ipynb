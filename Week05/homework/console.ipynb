{
 "cells": [
  {
   "cell_type": "code",
   "execution_count": 25,
   "metadata": {},
   "outputs": [
    {
     "name": "stdout",
     "output_type": "stream",
     "text": [
      "{'name': '', 'description': '', 'links': [''], 'detections': ['']}\n",
      " \n",
      "{'name': 'Credential Collection in the Registry', 'description': 'The Windows Registry stores configuration information that can be used by the system or other programs. Adversaries may query the Registry looking for credentials and passwords that have been stored for use by other programs or services. Sometimes these credentials are used for automatic logons.Adversaries could also inject malicious DLLs into registry keys that are loaded after reboot. When a user authenticates the DLLs have a routine that captures their credentials after login.', 'links': ['https://attack.mitre.org/techniques/T1214/'], 'detections': ['HKLM\\\\SYSTEM\\\\CurrentControlSet\\\\Control\\\\Lsa\\\\']}\n",
      " \n",
      "{'name': 'Processes Running JavaScript Or VBScript', 'description': 'Adversaries may use scripts to aid in operations and perform multiple actions that would otherwise be manual. Scripting is useful for speeding up operational tasks and reducing the time required to gain access to critical resources. Some scripting languages may be used to bypass process monitoring mechanisms by directly interacting with the operating system at an API level instead of calling other programs. Common scripting languages for Windows include VBScript and PowerShell but could also be in the form of command-line batch scripts.', 'links': ['https://attack.mitre.org/techniques/T1064/', 'https://attack.mitre.org/techniques/T1170/', 'https://attack.mitre.org/techniques/T1117/'], 'detections': ['mshta', 'mshta.exe', '.hta', 'vbscript:', 'about:', 'javascript:', 'regHead', 'wscript.Shell', 'cscript', 'jscript', 'sscript', 'Regsvr32']}\n",
      " \n",
      "{'name': 'PowerShell Executions', 'description': 'PowerShell is a powerful interactive command-line interface and scripting environment included in the Windows operating system. Adversaries can use PowerShell to perform a number of actions, including discovery of information and execution of code. Examples include the Start-Process cmdlet which can be used to run an executable and the Invoke-Command cmdlet which runs a command locally or on a remote computer.', 'links': ['https://attack.mitre.org/techniques/T1086/'], 'detections': ['powershell.exe ', 'powershell', 'ps1', 'psm1', 'PSLockdownPolicy', 'ExecutionContext.SessionState.LanguageMode', 'Net.WebClient', 'iex', 'Invoke-', 'TOKEN_IMPERSONATE', 'TOKEN_DUPLICATE', 'TOKEN_ADJUST_PRIVILEGES', 'TOKEN_PRIVILEGES', 'GetDelegateForFunctionPointer', 'System.Reflection.AssemblyName', 'System.Reflection.Emit.AssemblyBuilderAccess', 'System.MulticastDelegate', 'System.Reflection.CallingConventions', 'Get-GPPPassword', 'System.Security.Cryptography.AesCryptoServiceProvider', '0x4e,0x99,0x06,0xe8,0xfc,0xb6,0x6c,0xc9,0xfa,0xf4', 'Groups.User.Properties.cpassword', 'ScheduledTasks.Task.Properties.cpassword', 'System.Management.Automation.WindowsErrorReporting', 'Out-MiniDump', 'MiniDumpWriteDump', 'ExecutionPolicyPSRemoting']}\n",
      " \n"
     ]
    }
   ],
   "source": [
    "import yaml\n",
    "# Open the Yaml File\n",
    "try: \n",
    "    with open('searchTerms.yaml', 'r')  as yf:\n",
    "        yaml_data = yaml.safe_load(yf)\n",
    "except EnvironmentError as e:\n",
    "    print(e.strerror)\n",
    "\n",
    "#print(yaml_data)\n",
    "for section in yaml_data:\n",
    "    data = yaml_data[section]\n",
    "    for item in data: \n",
    "        print(data[item])\n",
    "        print(\" \")"
   ]
  },
  {
   "cell_type": "code",
   "execution_count": 28,
   "metadata": {},
   "outputs": [
    {
     "name": "stdout",
     "output_type": "stream",
     "text": [
      "{'name': '', 'description': '', 'links': [''], 'detections': ['']}\n",
      "{'name': 'Credential Collection in the Registry', 'description': 'The Windows Registry stores configuration information that can be used by the system or other programs. Adversaries may query the Registry looking for credentials and passwords that have been stored for use by other programs or services. Sometimes these credentials are used for automatic logons.Adversaries could also inject malicious DLLs into registry keys that are loaded after reboot. When a user authenticates the DLLs have a routine that captures their credentials after login.', 'links': ['https://attack.mitre.org/techniques/T1214/'], 'detections': ['HKLM\\\\SYSTEM\\\\CurrentControlSet\\\\Control\\\\Lsa\\\\']}\n",
      "{'name': 'Processes Running JavaScript Or VBScript', 'description': 'Adversaries may use scripts to aid in operations and perform multiple actions that would otherwise be manual. Scripting is useful for speeding up operational tasks and reducing the time required to gain access to critical resources. Some scripting languages may be used to bypass process monitoring mechanisms by directly interacting with the operating system at an API level instead of calling other programs. Common scripting languages for Windows include VBScript and PowerShell but could also be in the form of command-line batch scripts.', 'links': ['https://attack.mitre.org/techniques/T1064/', 'https://attack.mitre.org/techniques/T1170/', 'https://attack.mitre.org/techniques/T1117/'], 'detections': ['mshta', 'mshta.exe', '.hta', 'vbscript:', 'about:', 'javascript:', 'regHead', 'wscript.Shell', 'cscript', 'jscript', 'sscript', 'Regsvr32']}\n",
      "{'name': 'PowerShell Executions', 'description': 'PowerShell is a powerful interactive command-line interface and scripting environment included in the Windows operating system. Adversaries can use PowerShell to perform a number of actions, including discovery of information and execution of code. Examples include the Start-Process cmdlet which can be used to run an executable and the Invoke-Command cmdlet which runs a command locally or on a remote computer.', 'links': ['https://attack.mitre.org/techniques/T1086/'], 'detections': ['powershell.exe ', 'powershell', 'ps1', 'psm1', 'PSLockdownPolicy', 'ExecutionContext.SessionState.LanguageMode', 'Net.WebClient', 'iex', 'Invoke-', 'TOKEN_IMPERSONATE', 'TOKEN_DUPLICATE', 'TOKEN_ADJUST_PRIVILEGES', 'TOKEN_PRIVILEGES', 'GetDelegateForFunctionPointer', 'System.Reflection.AssemblyName', 'System.Reflection.Emit.AssemblyBuilderAccess', 'System.MulticastDelegate', 'System.Reflection.CallingConventions', 'Get-GPPPassword', 'System.Security.Cryptography.AesCryptoServiceProvider', '0x4e,0x99,0x06,0xe8,0xfc,0xb6,0x6c,0xc9,0xfa,0xf4', 'Groups.User.Properties.cpassword', 'ScheduledTasks.Task.Properties.cpassword', 'System.Management.Automation.WindowsErrorReporting', 'Out-MiniDump', 'MiniDumpWriteDump', 'ExecutionPolicyPSRemoting']}\n"
     ]
    }
   ],
   "source": [
    "import yaml\n",
    "# Open the Yaml File\n",
    "try: \n",
    "    with open('searchTerms.yaml', 'r')  as yf:\n",
    "        yaml_data = yaml.safe_load(yf)\n",
    "except EnvironmentError as e:\n",
    "    print(e.strerror)\n",
    "\n",
    "#print(yaml_data)\n",
    "for section in yaml_data:\n",
    "    data = yaml_data[section]\n",
    "    print(data)"
   ]
  }
 ],
 "metadata": {
  "kernelspec": {
   "display_name": "Python 3.9.12 ('base')",
   "language": "python",
   "name": "python3"
  },
  "language_info": {
   "codemirror_mode": {
    "name": "ipython",
    "version": 3
   },
   "file_extension": ".py",
   "mimetype": "text/x-python",
   "name": "python",
   "nbconvert_exporter": "python",
   "pygments_lexer": "ipython3",
   "version": "3.9.12"
  },
  "orig_nbformat": 4,
  "vscode": {
   "interpreter": {
    "hash": "005826126a67d9541252b7ed6c85b7630905e83f62c495d3fb9734e5c7bec29e"
   }
  }
 },
 "nbformat": 4,
 "nbformat_minor": 2
}

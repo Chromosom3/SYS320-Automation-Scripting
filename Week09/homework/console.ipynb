{
 "cells": [
  {
   "cell_type": "code",
   "execution_count": 12,
   "metadata": {},
   "outputs": [],
   "source": [
    "from matplotlib.pyplot import hot\n",
    "import paramiko\n",
    "from getpass import getpass\n",
    "\n",
    "# Create the prompt for the password\n",
    "password = getpass(prompt=\"Please Enter your SSH password: \")\n",
    "\n",
    "# Hist Information\n",
    "host = \"192.168.1.229\"\n",
    "port = 22\n",
    "username = \"ubuntu\"\n",
    "\n",
    "\n",
    "try: \n",
    "    ssh = paramiko.SSHClient()\n",
    "    ssh.set_missing_host_key_policy(paramiko.AutoAddPolicy())\n",
    "    # Open the SSH session\n",
    "    ssh.connect(host, port, username, password)\n",
    "except paramiko.AuthenticationException:\n",
    "    print(\"Authentication Failed.\")"
   ]
  },
  {
   "cell_type": "code",
   "execution_count": 13,
   "metadata": {},
   "outputs": [],
   "source": [
    "# Start SFTP Session\n",
    "from threading import local\n",
    "\n",
    "# File to Upload\n",
    "file = \"kraken\"\n",
    "# Start the SFTP Session\n",
    "sftp = ssh.open_sftp()\n",
    "# Copy the File\n",
    "sftp.put(file, file)\n",
    "\n",
    "# Make the file executable\n",
    "command_chmod = \"chmod +x ./kraken\"\n",
    "ssh.exec_command(command_chmod)\n",
    "\n",
    "# Command to run the file\n",
    "command_kraken = \"sudo -S ./kraken --folder /usr/bin --folder /usr/sbin/ --folder /usr/local/bin --folder /sbin --folder /usr/local/sbin --folder /bin > navarro_kraken.txt\"\n",
    "# Run the Command \n",
    "stdin, stdout, stderr = ssh.exec_command(command_kraken)\n",
    "# Pass user password to the sudo prompt\n",
    "stdin.write(password + \"\\n\")\n",
    "# Hits the enter for the end of the command to finish\n",
    "stdin.write(\"\\n\")\n",
    "# The command above seems to be having issues when executing. I think it's getting terminated before completion\n",
    "# This should make it wait till it finishes.\n",
    "exit_status = stdout.channel.recv_exit_status()\n",
    "\n",
    "# Pull the remote output file.\n",
    "# Remote File\n",
    "remote_file = \"navarro_kraken.txt\"\n",
    "# Lets get the results\n",
    "sftp.get(remote_file, \"navarro_kraken.txt\")"
   ]
  },
  {
   "cell_type": "code",
   "execution_count": 43,
   "metadata": {},
   "outputs": [
    {
     "name": "stdout",
     "output_type": "stream",
     "text": [
      "['pid=825']\n"
     ]
    }
   ],
   "source": [
    "# Get matching processes out of the output file.\n",
    "import re\n",
    "pid_list = []\n",
    "# Need to remove the cringe color code stuff.\n",
    "no_ansi = []\n",
    "# Regex to remove the ansi color settings\n",
    "ansi_escape = re.compile(r'\\x1B(?:[@-Z\\\\-_]|\\[[0-?]*[ -/]*[@-~])')\n",
    "# Open the results file\n",
    "with open(\"navarro_kraken.txt\") as kraken_results:\n",
    "    # Read the file\n",
    "    lines = kraken_results.readlines()\n",
    "    # loop through each line in the file\n",
    "    for line in lines:\n",
    "        # Remove the ansi color stuff\n",
    "        line = ansi_escape.sub('', line)\n",
    "        # Add the cleaned line to the no_ansi list\n",
    "        no_ansi.append(line)\n",
    "# Loop through the cleaned list\n",
    "for line in no_ansi:\n",
    "    # Search the item in the list for a PID string\n",
    "    search = re.search(\".*pid.*=.*\", line)\n",
    "    # If PID found then append it to the pid_list array.\n",
    "    if search:\n",
    "        # Pulls the specific PID out of the string\n",
    "        pid = re.findall(r'pid=[0-9]{1,5}',line)\n",
    "        if (len(pid) > 0):\n",
    "            pid_list.append(pid[0])\n",
    "print(pid_list)"
   ]
  },
  {
   "cell_type": "code",
   "execution_count": 15,
   "metadata": {},
   "outputs": [],
   "source": [
    "# Close the SSH Session\n",
    "ssh.close()"
   ]
  }
 ],
 "metadata": {
  "kernelspec": {
   "display_name": "Python 3.9.12 ('base')",
   "language": "python",
   "name": "python3"
  },
  "language_info": {
   "codemirror_mode": {
    "name": "ipython",
    "version": 3
   },
   "file_extension": ".py",
   "mimetype": "text/x-python",
   "name": "python",
   "nbconvert_exporter": "python",
   "pygments_lexer": "ipython3",
   "version": "3.9.12"
  },
  "orig_nbformat": 4,
  "vscode": {
   "interpreter": {
    "hash": "005826126a67d9541252b7ed6c85b7630905e83f62c495d3fb9734e5c7bec29e"
   }
  }
 },
 "nbformat": 4,
 "nbformat_minor": 2
}
